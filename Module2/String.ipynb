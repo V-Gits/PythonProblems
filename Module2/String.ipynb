{
 "cells": [
  {
   "cell_type": "markdown",
   "metadata": {},
   "source": [
    "# String Methods"
   ]
  },
  {
   "cell_type": "code",
   "execution_count": 1,
   "metadata": {},
   "outputs": [
    {
     "name": "stdout",
     "output_type": "stream",
     "text": [
      "11\n"
     ]
    }
   ],
   "source": [
    "#Length Function: len(string_name)\n",
    "STRING1 = \"HELLO WORLD\"\n",
    "print(len(STRING1))"
   ]
  },
  {
   "cell_type": "code",
   "execution_count": null,
   "metadata": {},
   "outputs": [
    {
     "name": "stdout",
     "output_type": "stream",
     "text": [
      "True\n",
      "False\n"
     ]
    }
   ],
   "source": [
    "#endswith function\n",
    "STRING1 = \"HELLO WORLD\"\n",
    "print(STRING1.endswith(\"WORLD\"))\n",
    "print(STRING1.endswith(\"world\"))"
   ]
  },
  {
   "cell_type": "code",
   "execution_count": 7,
   "metadata": {},
   "outputs": [
    {
     "name": "stdout",
     "output_type": "stream",
     "text": [
      "True\n",
      "False\n"
     ]
    }
   ],
   "source": [
    "#startswith function\n",
    "STRING1 = \"HELLO WORLD\"\n",
    "print(STRING1.startswith(\"HELLO\"))\n",
    "print(STRING1.startswith(\"hello\"))"
   ]
  },
  {
   "cell_type": "code",
   "execution_count": 14,
   "metadata": {},
   "outputs": [
    {
     "name": "stdout",
     "output_type": "stream",
     "text": [
      "STRING1.isalpha()=True\n",
      "STRING1.isdigit()=False\n",
      "string1.isalpha()=True\n",
      "STRING2.isdigit()=True\n",
      "STRING2.isalpha()=False\n",
      "STRING3.isalpha()=False\n",
      "STRING3.isdigit()=False\n"
     ]
    }
   ],
   "source": [
    "#isalpha(), isdigit() Functions\n",
    "STRING1 = \"ABC\"\n",
    "string1 = \"abc\"\n",
    "STRING2 = \"123\"\n",
    "STRING3 = \"HELLO WORLD\"\n",
    "print(f\"{STRING1.isalpha()=}\")\n",
    "print(f\"{STRING1.isdigit()=}\")\n",
    "print(f\"{string1.isalpha()=}\")\n",
    "print(f\"{STRING2.isdigit()=}\")\n",
    "print(f\"{STRING2.isalpha()=}\")\n",
    "print(f\"{STRING3.isalpha()=}\")\n",
    "print(f\"{STRING3.isdigit()=}\")\n"
   ]
  },
  {
   "cell_type": "code",
   "execution_count": 15,
   "metadata": {},
   "outputs": [
    {
     "name": "stdout",
     "output_type": "stream",
     "text": [
      "['HI', 'THERE']\n"
     ]
    }
   ],
   "source": [
    "#split function\n",
    "STRING = \"HI THERE\"\n",
    "LIST = STRING.split()\n",
    "print(LIST)"
   ]
  },
  {
   "cell_type": "code",
   "execution_count": 17,
   "metadata": {},
   "outputs": [
    {
     "name": "stdout",
     "output_type": "stream",
     "text": [
      "HITHERE\n"
     ]
    }
   ],
   "source": [
    "LIST = ['HI', 'THERE']\n",
    "STRING = \"\".join(LIST)\n",
    "print(STRING)"
   ]
  },
  {
   "cell_type": "code",
   "execution_count": 18,
   "metadata": {},
   "outputs": [
    {
     "name": "stdout",
     "output_type": "stream",
     "text": [
      "HI THERE\n"
     ]
    }
   ],
   "source": [
    "LIST = ['HI', 'THERE']\n",
    "STRING = \" \".join(LIST)\n",
    "print(STRING)"
   ]
  },
  {
   "cell_type": "code",
   "execution_count": 20,
   "metadata": {},
   "outputs": [
    {
     "name": "stdout",
     "output_type": "stream",
     "text": [
      "string.upper()='HI HELLO'\n",
      "STRING.lower()='hi hello'\n"
     ]
    }
   ],
   "source": [
    "STRING = \"HI HELLO\"\n",
    "string = \"hi hello\"\n",
    "print(f\"{string.upper()=}\")  \n",
    "print(f\"{STRING.lower()=}\")"
   ]
  },
  {
   "cell_type": "code",
   "execution_count": 21,
   "metadata": {},
   "outputs": [
    {
     "name": "stdout",
     "output_type": "stream",
     "text": [
      "string.capitalize()='Hi hello'\n"
     ]
    }
   ],
   "source": [
    "string = \"hi hello\"\n",
    "print(f\"{string.capitalize()=}\")"
   ]
  }
 ],
 "metadata": {
  "kernelspec": {
   "display_name": ".venv",
   "language": "python",
   "name": "python3"
  },
  "language_info": {
   "codemirror_mode": {
    "name": "ipython",
    "version": 3
   },
   "file_extension": ".py",
   "mimetype": "text/x-python",
   "name": "python",
   "nbconvert_exporter": "python",
   "pygments_lexer": "ipython3",
   "version": "3.12.3"
  }
 },
 "nbformat": 4,
 "nbformat_minor": 2
}
